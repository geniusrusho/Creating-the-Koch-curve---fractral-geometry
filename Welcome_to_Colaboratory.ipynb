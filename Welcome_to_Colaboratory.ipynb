{
  "cells": [
    {
      "cell_type": "markdown",
      "metadata": {
        "id": "view-in-github",
        "colab_type": "text"
      },
      "source": [
        "<a href=\"https://colab.research.google.com/github/geniusrusho/Creating-the-Koch-curve---fractral-geometry/blob/main/Welcome_to_Colaboratory.ipynb\" target=\"_parent\"><img src=\"https://colab.research.google.com/assets/colab-badge.svg\" alt=\"Open In Colab\"/></a>"
      ]
    },
    {
      "cell_type": "markdown",
      "metadata": {
        "id": "4_kCnsPUqS6o"
      },
      "source": [
        "# **Python full course **"
      ]
    },
    {
      "cell_type": "code",
      "source": [
        "first_name = \"ada\"\n",
        "last_name  = \"lovelace\"\n",
        "full_name  = f\"{first_name} {last_name}\"\n",
        "print(full_name)"
      ],
      "metadata": {
        "id": "AkRA67yKLwcX",
        "outputId": "ba9574d0-9a35-4d2b-be40-4ca22c8486c3",
        "colab": {
          "base_uri": "https://localhost:8080/"
        }
      },
      "execution_count": 2,
      "outputs": [
        {
          "output_type": "stream",
          "name": "stdout",
          "text": [
            "ada lovelace\n"
          ]
        }
      ]
    },
    {
      "cell_type": "code",
      "source": [
        "favourite_language = 'python'\n",
        "favourite_language = favourite_language.rstrip()\n",
        "favourite_language\n"
      ],
      "metadata": {
        "id": "Xpd7UZjKMN99",
        "outputId": "068187cd-b99f-4c05-c0d5-7349527091fd",
        "colab": {
          "base_uri": "https://localhost:8080/",
          "height": 35
        }
      },
      "execution_count": 4,
      "outputs": [
        {
          "output_type": "execute_result",
          "data": {
            "text/plain": [
              "'python'"
            ],
            "application/vnd.google.colaboratory.intrinsic+json": {
              "type": "string"
            }
          },
          "metadata": {},
          "execution_count": 4
        }
      ]
    },
    {
      "cell_type": "code",
      "source": [
        "bicycles = ['trek','cannondale','redline','specialized']\n",
        "print(bicycles[0].title())\n",
        "print(bicycles[1].title())\n",
        "print(bicycles[-1].title())"
      ],
      "metadata": {
        "colab": {
          "base_uri": "https://localhost:8080/"
        },
        "id": "vGdsiO_BO3Qc",
        "outputId": "28283303-2fb9-4d67-caef-bf16a52590fb"
      },
      "execution_count": 13,
      "outputs": [
        {
          "output_type": "stream",
          "name": "stdout",
          "text": [
            "Trek\n",
            "Cannondale\n",
            "Specialized\n"
          ]
        }
      ]
    },
    {
      "cell_type": "code",
      "source": [
        "bicycles = ['trek','cannondale','redline','specialized']\n",
        "lest_owned = bicycles.pop()\n",
        "print(f\"The last motorcycle i owned was a {lest_owned.title()}.\")\n"
      ],
      "metadata": {
        "outputId": "19e718f3-1466-4975-803c-aab132e6396b",
        "colab": {
          "base_uri": "https://localhost:8080/"
        },
        "id": "m_bde2qWQI0G"
      },
      "execution_count": 17,
      "outputs": [
        {
          "output_type": "stream",
          "name": "stdout",
          "text": [
            "The last motorcycle i owned was a Specialized.\n"
          ]
        }
      ]
    },
    {
      "cell_type": "code",
      "source": [
        "cars = ['bmw','audi','toyta','subaru']\n",
        "cars.sort(reverse=True)\n",
        "print(cars)"
      ],
      "metadata": {
        "id": "Za8bfbqBSLsK",
        "outputId": "f25f1a19-b202-4e03-aa1a-aeb957e4a053",
        "colab": {
          "base_uri": "https://localhost:8080/"
        }
      },
      "execution_count": 20,
      "outputs": [
        {
          "output_type": "stream",
          "name": "stdout",
          "text": [
            "['toyta', 'subaru', 'bmw', 'audi']\n"
          ]
        }
      ]
    },
    {
      "cell_type": "code",
      "source": [
        "magicians = ['alice','david','carolina']\n",
        "for magician in magicians:\n",
        "  print(magician)"
      ],
      "metadata": {
        "id": "LkdSIE6zPZ-t",
        "outputId": "a5702eae-46a7-45da-f1cb-98955249b216",
        "colab": {
          "base_uri": "https://localhost:8080/"
        }
      },
      "execution_count": 21,
      "outputs": [
        {
          "output_type": "stream",
          "name": "stdout",
          "text": [
            "alice\n",
            "david\n",
            "carolina\n"
          ]
        }
      ]
    },
    {
      "cell_type": "code",
      "source": [
        "for value in range(1,5):\n",
        "  print(value)"
      ],
      "metadata": {
        "id": "wnLT3JTmb8Pc",
        "outputId": "22df80ae-20ae-4abe-a6fa-40715ce72b7b",
        "colab": {
          "base_uri": "https://localhost:8080/"
        }
      },
      "execution_count": 23,
      "outputs": [
        {
          "output_type": "stream",
          "name": "stdout",
          "text": [
            "1\n",
            "2\n",
            "3\n",
            "4\n"
          ]
        }
      ]
    },
    {
      "cell_type": "code",
      "source": [
        "numbers = list(range(1,6))"
      ],
      "metadata": {
        "id": "7eHxUw2BcnLp"
      },
      "execution_count": 24,
      "outputs": []
    },
    {
      "cell_type": "code",
      "source": [
        "print(numbers)"
      ],
      "metadata": {
        "id": "ca-pYV8XcwCP",
        "outputId": "4cb67ccc-fd0c-4016-ecca-6fba57fcfded",
        "colab": {
          "base_uri": "https://localhost:8080/"
        }
      },
      "execution_count": 26,
      "outputs": [
        {
          "output_type": "stream",
          "name": "stdout",
          "text": [
            "[1, 2, 3, 4, 5]\n"
          ]
        }
      ]
    },
    {
      "cell_type": "code",
      "source": [
        "even_numbers = list(range(2,11,2))\n",
        "print(even_numbers)"
      ],
      "metadata": {
        "id": "79sSPdwxc0xf",
        "outputId": "7610b52c-2566-4213-f207-9603adafe8c1",
        "colab": {
          "base_uri": "https://localhost:8080/"
        }
      },
      "execution_count": 27,
      "outputs": [
        {
          "output_type": "stream",
          "name": "stdout",
          "text": [
            "[2, 4, 6, 8, 10]\n"
          ]
        }
      ]
    },
    {
      "cell_type": "markdown",
      "source": [
        "# **USING RANGE FUNCTION IN LISTS**\n",
        "\n",
        "---\n",
        "\n"
      ],
      "metadata": {
        "id": "JvJtk-gsdUbl"
      }
    },
    {
      "cell_type": "code",
      "source": [
        "squares = [value**2 for value in range(1,11)]\n",
        "print(squares)"
      ],
      "metadata": {
        "id": "JpG47w2GdcQl",
        "outputId": "a4a7fa28-1017-41d8-aab3-e0f953ef4fc1",
        "colab": {
          "base_uri": "https://localhost:8080/"
        }
      },
      "execution_count": 28,
      "outputs": [
        {
          "output_type": "stream",
          "name": "stdout",
          "text": [
            "[1, 4, 9, 16, 25, 36, 49, 64, 81, 100]\n"
          ]
        }
      ]
    },
    {
      "cell_type": "code",
      "source": [
        "players = ['Rusho','Rudro','Tusho']\n",
        "print(players[0:3])"
      ],
      "metadata": {
        "id": "NJxupRFKg169",
        "outputId": "9c44e829-02ca-4091-e01a-3d8dbca8bb9f",
        "colab": {
          "base_uri": "https://localhost:8080/"
        }
      },
      "execution_count": 29,
      "outputs": [
        {
          "output_type": "stream",
          "name": "stdout",
          "text": [
            "['Rusho', 'Rudro', 'Tusho']\n"
          ]
        }
      ]
    },
    {
      "cell_type": "code",
      "source": [
        "print(players[-3:])"
      ],
      "metadata": {
        "id": "9XinK8gAhPAr",
        "outputId": "aac50d93-aba4-4fe9-eab1-2d81e5b6fa1d",
        "colab": {
          "base_uri": "https://localhost:8080/"
        }
      },
      "execution_count": 30,
      "outputs": [
        {
          "output_type": "stream",
          "name": "stdout",
          "text": [
            "['Rusho', 'Rudro', 'Tusho']\n"
          ]
        }
      ]
    },
    {
      "cell_type": "code",
      "source": [
        "age = 19\n",
        "if age>=18:\n",
        "  print(\"You are old enough to vote\")\n",
        "  print(\"Have you registered to vote yet?\")\n",
        "else:\n",
        "  print(\"Sorry!\")"
      ],
      "metadata": {
        "id": "lqtQRf95hT4Q",
        "outputId": "ddd0439e-3aee-4891-a35c-c9d0b42a93b9",
        "colab": {
          "base_uri": "https://localhost:8080/"
        }
      },
      "execution_count": 33,
      "outputs": [
        {
          "output_type": "stream",
          "name": "stdout",
          "text": [
            "You are old enough to vote\n",
            "Have you registered to vote yet?\n"
          ]
        }
      ]
    },
    {
      "cell_type": "markdown",
      "source": [
        "# **Omitting the else Block**"
      ],
      "metadata": {
        "id": "8gOqROnSkfwG"
      }
    },
    {
      "cell_type": "code",
      "source": [
        "age = 12\n",
        "if age<4:\n",
        "  price = 0\n",
        "elif age<18:\n",
        "  price = 25\n",
        "print(f\"admission cost is ${price}\")"
      ],
      "metadata": {
        "id": "z--pDNUQk1e4",
        "outputId": "266b0533-9c5e-4fcc-99d5-18a7517cb8af",
        "colab": {
          "base_uri": "https://localhost:8080/"
        }
      },
      "execution_count": 39,
      "outputs": [
        {
          "output_type": "stream",
          "name": "stdout",
          "text": [
            "admission cost is $25\n"
          ]
        }
      ]
    },
    {
      "cell_type": "markdown",
      "source": [
        "# **TESTING MULTIPLE CONDITIONS**"
      ],
      "metadata": {
        "id": "9QU2luq-l2sp"
      }
    },
    {
      "cell_type": "code",
      "source": [
        "requested_toppings = [\"mushrooms\",'extra cheese']\n",
        "if 'mushrooms' in requested_toppings:\n",
        "  print(\"Adding mushrooms.\")\n",
        "  if 'pepperoni'in requested_toppings:\n",
        "    print(\"Adding peperoni\")\n",
        "    print(\"\\nFinished making your pizza\")\n"
      ],
      "metadata": {
        "colab": {
          "base_uri": "https://localhost:8080/"
        },
        "id": "8YWXZu4dl8HY",
        "outputId": "ac5ffc1c-7e85-414b-b854-70a5c5acf379"
      },
      "execution_count": 42,
      "outputs": [
        {
          "output_type": "stream",
          "name": "stdout",
          "text": [
            "Adding mushrooms.\n"
          ]
        }
      ]
    },
    {
      "cell_type": "markdown",
      "source": [
        "# **CHEKING FOR SPECIAL ITEMS**"
      ],
      "metadata": {
        "id": "K1GfEgA6oWoy"
      }
    },
    {
      "cell_type": "code",
      "source": [
        "requested_toppings = ['mushrooms','green peppers','extra cheese']\n",
        "for requested_toppings in requested_toppings:\n",
        "  print(f\"Adding{requested_toppings}.\")\n",
        "  print(\"\\n Finishing making your pizzas!!Hurray\")\n",
        "  #THIS THE SPECIAL CONDITION"
      ],
      "metadata": {
        "id": "bYvMel2zpHdl",
        "outputId": "c7e83188-5da7-4321-aa6d-2e2f04679bb7",
        "colab": {
          "base_uri": "https://localhost:8080/"
        }
      },
      "execution_count": 46,
      "outputs": [
        {
          "output_type": "stream",
          "name": "stdout",
          "text": [
            "Addingmushrooms.\n",
            "\n",
            " Finishing making your pizzas!!Hurray\n",
            "Addinggreen peppers.\n",
            "\n",
            " Finishing making your pizzas!!Hurray\n",
            "Addingextra cheese.\n",
            "\n",
            " Finishing making your pizzas!!Hurray\n"
          ]
        }
      ]
    },
    {
      "cell_type": "code",
      "source": [
        "allien_0 = {'color':'green','points':5}\n",
        "print(allien_0['color'])\n",
        "print(allien_0['points'])\n"
      ],
      "metadata": {
        "id": "jflQfSNrp7Us",
        "outputId": "6b5afe34-5a2d-407b-9a9f-bfa7008cdb4f",
        "colab": {
          "base_uri": "https://localhost:8080/"
        }
      },
      "execution_count": 47,
      "outputs": [
        {
          "output_type": "stream",
          "name": "stdout",
          "text": [
            "green\n",
            "5\n"
          ]
        }
      ]
    },
    {
      "cell_type": "code",
      "source": [],
      "metadata": {
        "id": "Dh_7sDwa0Fxj"
      },
      "execution_count": null,
      "outputs": []
    },
    {
      "cell_type": "markdown",
      "source": [],
      "metadata": {
        "id": "yHZXWNlfyEop"
      }
    }
  ],
  "metadata": {
    "colab": {
      "name": "Welcome to Colaboratory",
      "toc_visible": true,
      "provenance": [],
      "include_colab_link": true
    },
    "kernelspec": {
      "display_name": "Python 3",
      "name": "python3"
    }
  },
  "nbformat": 4,
  "nbformat_minor": 0
}